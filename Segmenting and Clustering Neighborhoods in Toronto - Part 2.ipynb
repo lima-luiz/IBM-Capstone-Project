{
 "cells": [
  {
   "cell_type": "markdown",
   "metadata": {},
   "source": [
    "Let's start by loading the code used in the previous part of the assignment:"
   ]
  },
  {
   "cell_type": "code",
   "execution_count": null,
   "metadata": {},
   "outputs": [],
   "source": [
    "%run \"Segmenting and Clustering Neighborhoods in Toronto - Part 1.ipynb\"\n",
    "\n",
    "\n",
    "\n",
    "\n"
   ]
  },
  {
   "cell_type": "markdown",
   "metadata": {},
   "source": [
    "Now, let's read the .csv file from the website informed in the description of the assignment. We will import its contents into a Numpy array. Also, let's initialize two empty lists to store the latitudes and longitudes:"
   ]
  },
  {
   "cell_type": "code",
   "execution_count": null,
   "metadata": {},
   "outputs": [],
   "source": [
    "coords_from_csv = np.genfromtxt(\"https://cocl.us/Geospatial_data\", delimiter=',', dtype=str)\n",
    "\n",
    "latitude = []\n",
    "longitude = []"
   ]
  },
  {
   "cell_type": "markdown",
   "metadata": {},
   "source": [
    "Next, let's iterate through all of the postal codes read in the previous assignment to collect their coordinates:"
   ]
  },
  {
   "cell_type": "code",
   "execution_count": null,
   "metadata": {},
   "outputs": [],
   "source": [
    "for postal_code in df_toronto_neighborhood[\"Postal code\"]:\n",
    "    lat_lng_index = np.where(coords_from_csv[:,0] == postal_code)\n",
    "    latitude.append(coords_from_csv[lat_lng_index,1][0][0])\n",
    "    longitude.append(coords_from_csv[lat_lng_index,2][0][0])"
   ]
  },
  {
   "cell_type": "code",
   "execution_count": null,
   "metadata": {},
   "outputs": [],
   "source": [
    "Finally, we will include the lists with the imported coordinates to the previous Pandas dataframe, expanding"
   ]
  },
  {
   "cell_type": "code",
   "execution_count": null,
   "metadata": {},
   "outputs": [],
   "source": [
    "df_toronto_neighborhood[\"Latitude\"] = latitude\n",
    "df_toronto_neighborhood[\"Longitude\"] = longitude\n",
    "\n",
    "df_toronto_neighborhood"
   ]
  }
 ],
 "metadata": {
  "kernelspec": {
   "display_name": "Python 3",
   "language": "python",
   "name": "python3"
  },
  "language_info": {
   "codemirror_mode": {
    "name": "ipython",
    "version": 3
   },
   "file_extension": ".py",
   "mimetype": "text/x-python",
   "name": "python",
   "nbconvert_exporter": "python",
   "pygments_lexer": "ipython3",
   "version": "3.8.1"
  }
 },
 "nbformat": 4,
 "nbformat_minor": 4
}
