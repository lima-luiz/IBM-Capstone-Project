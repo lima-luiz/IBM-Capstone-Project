{
 "cells": [
  {
   "cell_type": "markdown",
   "metadata": {},
   "source": [
    "## Peer-graded Assignment: Segmenting and Clustering Neighborhoods in Toronto"
   ]
  },
  {
   "cell_type": "markdown",
   "metadata": {},
   "source": [
    "Part 1: Import data from Wikipedia (https://en.wikipedia.org/wiki/List_of_postal_codes_of_Canada:_M)"
   ]
  },
  {
   "cell_type": "markdown",
   "metadata": {},
   "source": [
    "Let's start this assignment by importing the necessary libraries and by reading information from the right Wikipedia page:"
   ]
  },
  {
   "cell_type": "code",
   "execution_count": 123,
   "metadata": {},
   "outputs": [],
   "source": [
    "import pandas as pd\n",
    "import numpy as np\n",
    "import wikipedia\n",
    "from collections import defaultdict\n",
    "\n",
    "canada_postal_codes_page = wikipedia.page(\"List of postal codes of Canada: M\")\n",
    "\n",
    "html_content = canada_postal_codes_page.html()\n",
    "gross_table_data = html_content.split('<table class=\"wikitable\">\\n<tbody>')[1]\n",
    "gross_table_data = gross_table_data.split('</tbody></table>')[0]\n",
    "list_table_data = gross_table_data.split('</tr>',)\n",
    "\n",
    "toronto_neighborhoods = {\"Postal code\":[],\"Borough\":[],\"Neighborhood\":[]}\n"
   ]
  },
  {
   "cell_type": "markdown",
   "metadata": {},
   "source": [
    "Notice that the some _split_ operations were used to filter the table from the other entries of this page. Also, note that a dictionary was initialized, to store the information to be read from the table."
   ]
  },
  {
   "cell_type": "markdown",
   "metadata": {},
   "source": [
    "The loop below reads each line from the table and uses some _split_ and _replace_ operations to clean the information.\n",
    "\n",
    "Next, we have two _if-blocks_ to deal with the entries with no boroughs or neighborhoods assigned.\n",
    "\n",
    "Finally, we append the information to the dictionary initialized before."
   ]
  },
  {
   "cell_type": "code",
   "execution_count": 124,
   "metadata": {},
   "outputs": [],
   "source": [
    "for entry in list_table_data[1:-1]:\n",
    "    entry_items = entry.split(\"\\n</td>\")\n",
    "    postal_code = entry_items[0].replace(\"\\n<tr>\\n<td>\",\"\")\n",
    "    borough = entry_items[1].replace(\"\\n<td>\",\"\")\n",
    "    neighborhood = entry_items[2].replace(\"\\n<td>\",\"\")\n",
    "    \n",
    "    if borough in [\"Not assigned\"]:\n",
    "        continue\n",
    "    if neighborhood in [\"\"]:\n",
    "        neighborhood = borough\n",
    "    \n",
    "    toronto_neighborhoods[\"Postal code\"].append(postal_code)\n",
    "    toronto_neighborhoods[\"Borough\"].append(borough)\n",
    "    toronto_neighborhoods[\"Neighborhood\"].append(neighborhood)"
   ]
  },
  {
   "cell_type": "markdown",
   "metadata": {},
   "source": [
    "The last operation is to create the Pandas dataframe based on the dictionary containing the information we read from the Wikipedia page:"
   ]
  },
  {
   "cell_type": "code",
   "execution_count": 125,
   "metadata": {},
   "outputs": [
    {
     "data": {
      "text/html": [
       "<div>\n",
       "<style scoped>\n",
       "    .dataframe tbody tr th:only-of-type {\n",
       "        vertical-align: middle;\n",
       "    }\n",
       "\n",
       "    .dataframe tbody tr th {\n",
       "        vertical-align: top;\n",
       "    }\n",
       "\n",
       "    .dataframe thead th {\n",
       "        text-align: right;\n",
       "    }\n",
       "</style>\n",
       "<table border=\"1\" class=\"dataframe\">\n",
       "  <thead>\n",
       "    <tr style=\"text-align: right;\">\n",
       "      <th></th>\n",
       "      <th>Postal code</th>\n",
       "      <th>Borough</th>\n",
       "      <th>Neighborhood</th>\n",
       "    </tr>\n",
       "  </thead>\n",
       "  <tbody>\n",
       "    <tr>\n",
       "      <th>0</th>\n",
       "      <td>M3A</td>\n",
       "      <td>North York</td>\n",
       "      <td>Parkwoods</td>\n",
       "    </tr>\n",
       "    <tr>\n",
       "      <th>1</th>\n",
       "      <td>M4A</td>\n",
       "      <td>North York</td>\n",
       "      <td>Victoria Village</td>\n",
       "    </tr>\n",
       "    <tr>\n",
       "      <th>2</th>\n",
       "      <td>M5A</td>\n",
       "      <td>Downtown Toronto</td>\n",
       "      <td>Regent Park / Harbourfront</td>\n",
       "    </tr>\n",
       "    <tr>\n",
       "      <th>3</th>\n",
       "      <td>M6A</td>\n",
       "      <td>North York</td>\n",
       "      <td>Lawrence Manor / Lawrence Heights</td>\n",
       "    </tr>\n",
       "    <tr>\n",
       "      <th>4</th>\n",
       "      <td>M7A</td>\n",
       "      <td>Downtown Toronto</td>\n",
       "      <td>Queen's Park / Ontario Provincial Government</td>\n",
       "    </tr>\n",
       "    <tr>\n",
       "      <th>...</th>\n",
       "      <td>...</td>\n",
       "      <td>...</td>\n",
       "      <td>...</td>\n",
       "    </tr>\n",
       "    <tr>\n",
       "      <th>98</th>\n",
       "      <td>M8X</td>\n",
       "      <td>Etobicoke</td>\n",
       "      <td>The Kingsway / Montgomery Road  / Old Mill North</td>\n",
       "    </tr>\n",
       "    <tr>\n",
       "      <th>99</th>\n",
       "      <td>M4Y</td>\n",
       "      <td>Downtown Toronto</td>\n",
       "      <td>Church and Wellesley</td>\n",
       "    </tr>\n",
       "    <tr>\n",
       "      <th>100</th>\n",
       "      <td>M7Y</td>\n",
       "      <td>East Toronto</td>\n",
       "      <td>Business reply mail Processing CentrE</td>\n",
       "    </tr>\n",
       "    <tr>\n",
       "      <th>101</th>\n",
       "      <td>M8Y</td>\n",
       "      <td>Etobicoke</td>\n",
       "      <td>Old Mill South / King's Mill Park / Sunnylea /...</td>\n",
       "    </tr>\n",
       "    <tr>\n",
       "      <th>102</th>\n",
       "      <td>M8Z</td>\n",
       "      <td>Etobicoke</td>\n",
       "      <td>Mimico NW / The Queensway West / South of Bloo...</td>\n",
       "    </tr>\n",
       "  </tbody>\n",
       "</table>\n",
       "<p>103 rows × 3 columns</p>\n",
       "</div>"
      ],
      "text/plain": [
       "    Postal code           Borough  \\\n",
       "0           M3A        North York   \n",
       "1           M4A        North York   \n",
       "2           M5A  Downtown Toronto   \n",
       "3           M6A        North York   \n",
       "4           M7A  Downtown Toronto   \n",
       "..          ...               ...   \n",
       "98          M8X         Etobicoke   \n",
       "99          M4Y  Downtown Toronto   \n",
       "100         M7Y      East Toronto   \n",
       "101         M8Y         Etobicoke   \n",
       "102         M8Z         Etobicoke   \n",
       "\n",
       "                                          Neighborhood  \n",
       "0                                            Parkwoods  \n",
       "1                                     Victoria Village  \n",
       "2                           Regent Park / Harbourfront  \n",
       "3                    Lawrence Manor / Lawrence Heights  \n",
       "4         Queen's Park / Ontario Provincial Government  \n",
       "..                                                 ...  \n",
       "98    The Kingsway / Montgomery Road  / Old Mill North  \n",
       "99                                Church and Wellesley  \n",
       "100              Business reply mail Processing CentrE  \n",
       "101  Old Mill South / King's Mill Park / Sunnylea /...  \n",
       "102  Mimico NW / The Queensway West / South of Bloo...  \n",
       "\n",
       "[103 rows x 3 columns]"
      ]
     },
     "execution_count": 125,
     "metadata": {},
     "output_type": "execute_result"
    }
   ],
   "source": [
    "df_toronto_neighborhood = pd.DataFrame.from_dict(toronto_neighborhoods)\n",
    "df_toronto_neighborhood"
   ]
  },
  {
   "cell_type": "code",
   "execution_count": 126,
   "metadata": {},
   "outputs": [
    {
     "data": {
      "text/plain": [
       "(103, 3)"
      ]
     },
     "execution_count": 126,
     "metadata": {},
     "output_type": "execute_result"
    }
   ],
   "source": [
    "df_toronto_neighborhood.shape"
   ]
  }
 ],
 "metadata": {
  "kernelspec": {
   "display_name": "Python 3",
   "language": "python",
   "name": "python3"
  },
  "language_info": {
   "codemirror_mode": {
    "name": "ipython",
    "version": 3
   },
   "file_extension": ".py",
   "mimetype": "text/x-python",
   "name": "python",
   "nbconvert_exporter": "python",
   "pygments_lexer": "ipython3",
   "version": "3.8.1"
  }
 },
 "nbformat": 4,
 "nbformat_minor": 4
}
